{
 "cells": [
  {
   "cell_type": "code",
   "execution_count": 4,
   "id": "b07a7f7e",
   "metadata": {},
   "outputs": [
    {
     "name": "stdout",
     "output_type": "stream",
     "text": [
      "Requirement already satisfied: pyautogui in c:\\users\\dell\\appdata\\local\\programs\\python\\python310\\lib\\site-packages (0.9.53)\n",
      "Requirement already satisfied: pymsgbox in c:\\users\\dell\\appdata\\local\\programs\\python\\python310\\lib\\site-packages (from pyautogui) (1.0.9)\n",
      "Requirement already satisfied: PyTweening>=1.0.1 in c:\\users\\dell\\appdata\\local\\programs\\python\\python310\\lib\\site-packages (from pyautogui) (1.0.4)\n",
      "Requirement already satisfied: pyscreeze>=0.1.21 in c:\\users\\dell\\appdata\\local\\programs\\python\\python310\\lib\\site-packages (from pyautogui) (0.1.28)\n",
      "Requirement already satisfied: pygetwindow>=0.0.5 in c:\\users\\dell\\appdata\\local\\programs\\python\\python310\\lib\\site-packages (from pyautogui) (0.0.9)\n",
      "Requirement already satisfied: mouseinfo in c:\\users\\dell\\appdata\\local\\programs\\python\\python310\\lib\\site-packages (from pyautogui) (0.1.3)\n",
      "Requirement already satisfied: pyrect in c:\\users\\dell\\appdata\\local\\programs\\python\\python310\\lib\\site-packages (from pygetwindow>=0.0.5->pyautogui) (0.2.0)\n",
      "Requirement already satisfied: pyperclip in c:\\users\\dell\\appdata\\local\\programs\\python\\python310\\lib\\site-packages (from mouseinfo->pyautogui) (1.8.2)\n",
      "Note: you may need to restart the kernel to use updated packages.\n"
     ]
    },
    {
     "name": "stderr",
     "output_type": "stream",
     "text": [
      "\n",
      "[notice] A new release of pip available: 22.2.1 -> 22.3.1\n",
      "[notice] To update, run: python.exe -m pip install --upgrade pip\n"
     ]
    }
   ],
   "source": [
    "pip install pyautogui"
   ]
  },
  {
   "cell_type": "code",
   "execution_count": 5,
   "id": "15a7bbd2",
   "metadata": {},
   "outputs": [],
   "source": [
    "import pyautogui\n",
    "import tkinter as tk\n",
    "from tkinter.filedialog import *\n",
    "#importing required modules"
   ]
  },
  {
   "cell_type": "code",
   "execution_count": 6,
   "id": "1b826d28",
   "metadata": {},
   "outputs": [],
   "source": [
    "root = tk.Tk()\n",
    "canvas1 = tk.Canvas(root, width = 300, height = 300)\n",
    "canvas1.pack()\n",
    "#creating the tkinter window"
   ]
  },
  {
   "cell_type": "code",
   "execution_count": 7,
   "id": "398f4604",
   "metadata": {},
   "outputs": [],
   "source": [
    "def takess():\n",
    "    myss = pyautogui.screenshot()\n",
    "    save_path = asksaveasfilename()\n",
    "    myss.save(save_path+\"_screenshot.png\")\n",
    "    "
   ]
  },
  {
   "cell_type": "code",
   "execution_count": 8,
   "id": "47dca955",
   "metadata": {},
   "outputs": [
    {
     "data": {
      "text/plain": [
       "1"
      ]
     },
     "execution_count": 8,
     "metadata": {},
     "output_type": "execute_result"
    }
   ],
   "source": [
    "myButton = tk.Button(text =\"take ss\",command = takess,font = 10)\n",
    "canvas1.create_window(150,150,window= myButton)\n"
   ]
  },
  {
   "cell_type": "code",
   "execution_count": null,
   "id": "40c90902",
   "metadata": {},
   "outputs": [],
   "source": [
    "root.mainloop() "
   ]
  },
  {
   "cell_type": "code",
   "execution_count": null,
   "id": "9758ba27",
   "metadata": {},
   "outputs": [],
   "source": []
  }
 ],
 "metadata": {
  "kernelspec": {
   "display_name": "Python 3 (ipykernel)",
   "language": "python",
   "name": "python3"
  },
  "language_info": {
   "codemirror_mode": {
    "name": "ipython",
    "version": 3
   },
   "file_extension": ".py",
   "mimetype": "text/x-python",
   "name": "python",
   "nbconvert_exporter": "python",
   "pygments_lexer": "ipython3",
   "version": "3.10.6"
  }
 },
 "nbformat": 4,
 "nbformat_minor": 5
}
